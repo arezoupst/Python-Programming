{
 "cells": [
  {
   "cell_type": "markdown",
   "id": "5937377c-78ca-4745-93a0-35ab59499881",
   "metadata": {},
   "source": [
    "# 26 - Advanced Exercises\n",
    "\n",
    "*   Fancy Decorators\n",
    "*   @cache"
   ]
  },
  {
   "cell_type": "markdown",
   "id": "66385290-5bb5-41b2-a40a-af87d6d8b441",
   "metadata": {},
   "source": [
    "## 🎏🎏🎏\n",
    "1.Write a decorator called **`repeat`** that executes functions `n` times by receiving an argument called **`num_repeat = n`** "
   ]
  },
  {
   "cell_type": "code",
   "execution_count": null,
   "id": "ec039710-1599-4455-af25-3db8e406d760",
   "metadata": {},
   "outputs": [],
   "source": [
    "# Write your own code in this cell\n",
    "from functools import wraps\n",
    "def repeat():\n",
    "    pass\n",
    "\n",
    "\n",
    "@repeat(num_repeat=3)\n",
    "def say_hi(name):\n",
    "    print(f\"Hello {name}\")\n",
    "    "
   ]
  },
  {
   "cell_type": "markdown",
   "id": "5582905f-6218-475f-ad4e-c8f22118d7e1",
   "metadata": {},
   "source": [
    "## 🎏🎏🎏\n",
    "2.Create a decorator named ```log_exception``` that logs each function's errors and saves them to a file.\n",
    "Append the excetion to the ```logname``` file in the current directory after receiving an argument named logname.\n",
    "However, if the user does not specify a value for the ```logname``` variable, the code will record the errors in a file named ```log_exception.txt```.  \n",
    "\n",
    "Take a look at an example of a log file created by this decorator:\n",
    "```\n",
    "mylog.txt\n",
    "--------------------------------------------------\n",
    "Mon Nov 22 17:47:13 2021 ---->  div(12, 0)\n",
    "--------------------------------------------------\n",
    "integer division or modulo by zero\n",
    "--------------------------------------------------\n",
    "Mon Nov 22 17:47:20 2021 ---->  div(3.14, 0)\n",
    "--------------------------------------------------\n",
    "float floor division by zero\n",
    "```"
   ]
  },
  {
   "cell_type": "code",
   "execution_count": null,
   "id": "572116d9-d1f9-4ae8-8d2b-cf2d1367634d",
   "metadata": {},
   "outputs": [],
   "source": [
    "# Write your own code in this cell\n",
    "from functools import wraps\n",
    "\n",
    "\n",
    "def log_exception(_func=None, *, logname=None):\n",
    "    \n",
    "@log_exception(logname=\"mylog.txt\")\n",
    "def div(a, b):\n",
    "    return a // b\n",
    "div(1, 0)"
   ]
  },
  {
   "cell_type": "markdown",
   "id": "6123d829-9d85-4594-a062-f2a44994a3b2",
   "metadata": {},
   "source": [
    "## 🎏🎏🎏\n",
    "3.The Fibonacci sequence is defined as follows:\n",
    "$$ fib(1) = 1 $$\n",
    "$$ fib(2) = 1 $$\n",
    "$$ fib(n) = fib(n-1) + fib(n-2) $$\n",
    "```1, 1, 2, 3, 5, 8, 13, 21, 34, 55, 89, 144, 233, 377, 610, 987, 1597, 2584, 4181, 6765, ....```\n",
    "\n",
    "Complete the following ```fib(n)``` function and print the value of ```fib(98765)```. \n"
   ]
  },
  {
   "cell_type": "code",
   "execution_count": null,
   "id": "cd157fe0-3012-4eaa-a74b-27f644c49967",
   "metadata": {},
   "outputs": [],
   "source": [
    "# Write your own code in this cell\n",
    "from functools import cache \n",
    "\n",
    "def fib(n):\n",
    "    pass\n",
    "\n",
    "print(fib(98765))"
   ]
  },
  {
   "cell_type": "markdown",
   "id": "c6c91f35-6763-478d-bdb5-0f8548dab4d5",
   "metadata": {},
   "source": [
    "## 🎏🎏🎏\n",
    "4.The Factorial is defined as follows:\n",
    "$$ n! = n×(n-1)×(n-2)× ...  ×3×2×1 $$\n",
    "$$ 0! = 0 $$\n",
    "$$ 1! = 1 $$\n",
    "$$ 2! = 2 $$\n",
    "$$ 3! = 6 $$\n",
    "$$ 4! = 24 $$\n",
    "$$ ... $$\n",
    "Complete the following ```factorail(n)``` function and print the value of ```factorial(1434)```."
   ]
  },
  {
   "cell_type": "code",
   "execution_count": null,
   "id": "1309a803-3f71-49f6-88b1-040db1c9166c",
   "metadata": {},
   "outputs": [],
   "source": [
    "# Write your own code in this cell\n",
    "from functools import cache \n",
    "\n",
    "def factorial(n):\n",
    "    pass\n",
    "print(factorial(1434))"
   ]
  },
  {
   "cell_type": "markdown",
   "id": "ebf74d91-68f3-413d-9d6d-30bfff538729",
   "metadata": {},
   "source": [
    "## 🎏🎏🎏\n",
    "5.The Catalan Number C(n) is defined as follows:\n",
    "\n",
    "$$ C_{n} =  \\sum_{i=0}^{n-1} C_{i} × C_{(n-i-1)}  $$\n",
    "\n",
    "$$ C_{0} =  1 $$\n",
    "\n",
    "$$ C_{1} =  C_{0} × C_{(0)}  = 1 $$\n",
    "\n",
    "$$ C_{2} =  C_{0} × C_{(1)} + C_{1} × C_{(0)} = 2 $$\n",
    "\n",
    "$$ C_{3} =  C_{0} × C_{(2)} + C_{1} × C_{(1)} + C_{2} × C_{(0)} = 5 $$\n",
    "\n",
    "$$ C_{4} =  C_{0} × C_{(3)} + C_{1} × C_{(2)} + C_{2} × C_{(1)} + C_{3} × C_{(0)} = 14 $$\n",
    "\n",
    "$$ ... $$\n",
    "\n",
    "Complete the following ```C(n)``` function and print the value of ```C(700)```."
   ]
  },
  {
   "cell_type": "code",
   "execution_count": null,
   "id": "9ac37d67-cd4d-4336-803d-8fa4a5fb270b",
   "metadata": {},
   "outputs": [],
   "source": [
    "# Write your own code in this cell\n",
    "from functools import cache \n",
    "\n",
    "def C(n):\n",
    "    pass\n",
    "\n",
    "print(C(700))"
   ]
  }
 ],
 "metadata": {
  "kernelspec": {
   "display_name": "Python 3 (ipykernel)",
   "language": "python",
   "name": "python3"
  },
  "language_info": {
   "codemirror_mode": {
    "name": "ipython",
    "version": 3
   },
   "file_extension": ".py",
   "mimetype": "text/x-python",
   "name": "python",
   "nbconvert_exporter": "python",
   "pygments_lexer": "ipython3",
   "version": "3.9.7"
  }
 },
 "nbformat": 4,
 "nbformat_minor": 5
}

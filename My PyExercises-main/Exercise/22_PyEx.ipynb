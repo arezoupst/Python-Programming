{
 "cells": [
  {
   "cell_type": "markdown",
   "id": "8e7877d6-09ec-44c9-b495-2f5a268943e3",
   "metadata": {},
   "source": [
    "# 22 - Advanced Exercises\n",
    "\n",
    "*   Pathlib"
   ]
  },
  {
   "cell_type": "code",
   "execution_count": null,
   "id": "1f462ec8-f0f7-4801-86c0-c5778c527b00",
   "metadata": {},
   "outputs": [],
   "source": [
    "# Run this cell to import the main class:\n",
    "from pathlib import Path"
   ]
  },
  {
   "cell_type": "markdown",
   "id": "4345f319-d037-4002-af96-2b31da0eac58",
   "metadata": {},
   "source": [
    "### 🍬🍬🍬\n",
    "1.List all files and directories in the current path"
   ]
  },
  {
   "cell_type": "code",
   "execution_count": null,
   "id": "cfb94dae-443d-4004-873d-f869a5a15b34",
   "metadata": {},
   "outputs": [],
   "source": [
    "# Write your own code in this cell\n",
    "p = Path('.')\n"
   ]
  },
  {
   "cell_type": "markdown",
   "id": "e1763763-00f5-415b-8ec9-11fce92aecae",
   "metadata": {},
   "source": [
    "### 🍬🍬\n",
    "2.List all directories in the current path."
   ]
  },
  {
   "cell_type": "code",
   "execution_count": null,
   "id": "5df957fd-5888-4cd4-bffb-b0362c04abaf",
   "metadata": {},
   "outputs": [],
   "source": [
    "# Write your own code in this cell\n"
   ]
  },
  {
   "cell_type": "markdown",
   "id": "c42246d9-7810-4a12-9a08-94a478867fbe",
   "metadata": {},
   "source": [
    "### 🍬\n",
    "3.Find a list of all **```\"*.ipynb\"```** files in the current directory. (use **```.glob()```** method)"
   ]
  },
  {
   "cell_type": "code",
   "execution_count": null,
   "id": "156ebc48-cf40-4172-a3e1-4b53ebe825f8",
   "metadata": {},
   "outputs": [],
   "source": [
    "# Write your own code in this cell\n"
   ]
  },
  {
   "cell_type": "markdown",
   "id": "d536d28e-4fb8-42a4-8c41-6c8c91af00bd",
   "metadata": {},
   "source": [
    "### 🌶️\n",
    "4.Find a list of all files in the current directory and all nested paths. (use **```.glob()```** method)"
   ]
  },
  {
   "cell_type": "code",
   "execution_count": null,
   "id": "6ae3e455-f09c-44b0-9947-63c6ec22b90b",
   "metadata": {},
   "outputs": [],
   "source": [
    "# Write your own code in this cell\n"
   ]
  },
  {
   "cell_type": "markdown",
   "id": "d972961d-611e-4274-ba6c-c32daf25478d",
   "metadata": {},
   "source": [
    "### 🍬🍬🍬\n",
    "5.In the current path there is a folder named **```Files```** and inside it is a folder called **```pathlib```**. Create an object called **```q```** and give it the above path, then print the full path of the q  using the **```.resolve()```** method. "
   ]
  },
  {
   "cell_type": "code",
   "execution_count": null,
   "id": "c306186b-9f74-4334-975f-f75642d77c35",
   "metadata": {},
   "outputs": [],
   "source": [
    "# Write your own code in this cell\n",
    "q = Path('./Files/pathlib')\n"
   ]
  },
  {
   "cell_type": "markdown",
   "id": "9214a223-94fc-45e1-bc33-20da521f3d06",
   "metadata": {},
   "source": [
    "### 🍬🍬🍬\n",
    "6.In continuation of the previous question, determine whether the path of **```q```** **exists** at all, and if so, whether it is a **directory**. "
   ]
  },
  {
   "cell_type": "code",
   "execution_count": null,
   "id": "7937c33e-92ab-4f2e-9bc2-4b50183d2a74",
   "metadata": {},
   "outputs": [],
   "source": [
    "# Write your own code in this cell\n",
    "\n"
   ]
  },
  {
   "cell_type": "markdown",
   "id": "7d144db6-9a54-4a51-91a9-53c7e360022c",
   "metadata": {},
   "source": [
    "### 🍬\n",
    "7.There is a file called **```cc.txt```** in this path(**```./Files/pathlib/testfolder/```**). open it using the **```.open()```** method and print its contents. "
   ]
  },
  {
   "cell_type": "code",
   "execution_count": null,
   "id": "2222d176-7330-4d07-9622-e7fd79033afd",
   "metadata": {},
   "outputs": [],
   "source": [
    "# Write your own code in this cell\n",
    "p ="
   ]
  },
  {
   "cell_type": "markdown",
   "id": "63b9caf2-64ac-4a01-81a6-6879625c5f8d",
   "metadata": {},
   "source": [
    "### 🍬🍬🍬\n",
    "8.Can you tell the difference between these four objects? \n",
    "```\n",
    ">>> Path('foo//bar')\n",
    ">>> Path('foo/bar')\n",
    ">>> Path('foo/./bar')\n",
    ">>> Path('foo/../bar')\n",
    "```"
   ]
  },
  {
   "cell_type": "code",
   "execution_count": null,
   "id": "492bf373-e158-4f9d-879c-0a38ea589c0b",
   "metadata": {},
   "outputs": [],
   "source": [
    "# Write your own code in this cell\n"
   ]
  },
  {
   "cell_type": "markdown",
   "id": "9514e276-0a9a-4e0f-b80e-2a3174891eb8",
   "metadata": {},
   "source": [
    "### 🍬\n",
    "9.Print the individual parts (components) of a path below:"
   ]
  },
  {
   "cell_type": "code",
   "execution_count": null,
   "id": "f18f7c04-c7be-4990-8660-dee43caca6bf",
   "metadata": {},
   "outputs": [],
   "source": [
    "# Write your own code in this cell\n",
    "p = Path('./Files/pathlib/testfolder/cc.txt')\n"
   ]
  },
  {
   "cell_type": "markdown",
   "id": "8f679c18-bf13-4f05-a4a9-f676ff31b72d",
   "metadata": {},
   "source": [
    "### 🍬🍬🍬\n",
    "10.Print the path's logical **parents** of the object below: "
   ]
  },
  {
   "cell_type": "code",
   "execution_count": null,
   "id": "8dd14c41-dd2b-4e37-a015-ce431dace8ae",
   "metadata": {},
   "outputs": [],
   "source": [
    "# Write your own code in this cell\n",
    "p = Path('./Files/pathlib/testfolder/cc.txt')\n"
   ]
  },
  {
   "cell_type": "markdown",
   "id": "cb964384-b4dd-4b7a-9401-ed4d4abaa815",
   "metadata": {},
   "source": [
    "### 🍬🍬🍬\n",
    "11.Can you tell the difference between these two objects:\n",
    "```\n",
    ">>> p.parents\n",
    ">>> p.parent\n",
    "\n",
    "```"
   ]
  },
  {
   "cell_type": "code",
   "execution_count": null,
   "id": "ba1eb795-cbe1-40cc-b53b-c9d6758603cf",
   "metadata": {},
   "outputs": [],
   "source": [
    "# Write your own code in this cell\n",
    "p = Path('./Files/pathlib/testfolder/cc.txt')"
   ]
  },
  {
   "cell_type": "markdown",
   "id": "ecf7ca74-c316-4f3b-b855-b04efcd67059",
   "metadata": {},
   "source": [
    "### 🍬🍬🍬\n",
    "12. print **```name```** , **```suffix```**, **```stem```**  and **```parent```** of object below:"
   ]
  },
  {
   "cell_type": "code",
   "execution_count": null,
   "id": "93e9ab3b-bfbc-4590-8a1d-d29c6bc961fb",
   "metadata": {},
   "outputs": [],
   "source": [
    "# Write your own code in this cell\n",
    "p = Path('./Files/pathlib/testfolder/cc.txt')"
   ]
  },
  {
   "cell_type": "markdown",
   "id": "11a4371e-9642-47a4-96eb-8741ba65d821",
   "metadata": {},
   "source": [
    "### 🍬🍬🍬\n",
    "13.Return whether the path of **```q```** is absolute or not. A path is considered absolute if it has both a root and (if the flavour allows) a drive.\n",
    "\n",
    "If the path is not Absolute, can you get the Absolute path? "
   ]
  },
  {
   "cell_type": "code",
   "execution_count": null,
   "id": "4900f073-d6b4-47ad-b2c6-6321412559d2",
   "metadata": {},
   "outputs": [],
   "source": [
    "# Write your own code in this cell\n",
    "p = Path('./Files/pathlib/testfolder/cc.txt')\n"
   ]
  },
  {
   "cell_type": "markdown",
   "id": "2b7ee25e-f657-412a-bd78-08b37ab85548",
   "metadata": {},
   "source": [
    "### 🍬🍬🍬\n",
    "14.Inside the **```Files```** there are folders called **```pathlib```** .\n",
    "\n",
    "Using  **```is_relative_to()```** method, show that the following object is relative to **```Files```**.\n"
   ]
  },
  {
   "cell_type": "code",
   "execution_count": null,
   "id": "02680f1d-b080-4c0c-9e51-7e6188bb701c",
   "metadata": {},
   "outputs": [],
   "source": [
    "# Write your own code in this cell\n",
    "p = Path('./Files/pathlib')\n"
   ]
  },
  {
   "cell_type": "markdown",
   "id": "20796046-9d9d-491a-8949-5f374e9454b6",
   "metadata": {},
   "source": [
    "### 🍬🍬🍬 \n",
    "15.Consider the following Path object and change its extension from \"ipynb\" to \"txt\". "
   ]
  },
  {
   "cell_type": "code",
   "execution_count": null,
   "id": "a5fb0fa0-7c20-4844-bae4-6e19be1417dd",
   "metadata": {},
   "outputs": [],
   "source": [
    "# Write your own code in this cell\n",
    "p = Path('./Files/pathlib/testfolder/cc.ipynb')\n"
   ]
  },
  {
   "cell_type": "markdown",
   "id": "a9b2fabc-fc45-4b34-b38e-3f391e0c163b",
   "metadata": {},
   "source": [
    "### 🍬🍬🍬\n",
    "16.Consider the following Path object and change its name from \"aa.ipynb\" to \"cc.txt\". "
   ]
  },
  {
   "cell_type": "code",
   "execution_count": null,
   "id": "549be778-6546-4434-b8f9-ab5b86149954",
   "metadata": {},
   "outputs": [],
   "source": [
    "# Write your own code in this cell\n",
    "p = Path('./Files/pathlib/testfolder/aa.ipynb')\n"
   ]
  },
  {
   "cell_type": "markdown",
   "id": "7b254178-f98c-4e42-9917-6dad01e338be",
   "metadata": {},
   "source": [
    "### 🍬🍬🍬\n",
    "17.Consider the following Path object and change its stem from \"aa\" to \"bb\". "
   ]
  },
  {
   "cell_type": "code",
   "execution_count": null,
   "id": "daa51d7e-af11-4c07-9f66-8daaff540d84",
   "metadata": {},
   "outputs": [],
   "source": [
    "# Write your own code in this cell\n",
    "p = Path('./Files/pathlib/testfolder/aa.ipynb')\n"
   ]
  },
  {
   "cell_type": "markdown",
   "id": "3dcbf6cf-ff57-4b52-9ded-41dfd4d4ff86",
   "metadata": {},
   "source": [
    "### 🍬🍬🍬\n",
    "18.Using the pathlib library, create a variable called X and save the current working directory into it. Then create a variable called Y and save the Home directory into Y. Then print string presentation of both objects "
   ]
  },
  {
   "cell_type": "code",
   "execution_count": null,
   "id": "d7fe435d-dea0-42da-9372-bcb144333d5b",
   "metadata": {},
   "outputs": [],
   "source": [
    "# Write your own code in this cell\n",
    "X =\n",
    "Y =\n"
   ]
  },
  {
   "cell_type": "markdown",
   "id": "facdd50c-45cf-45fa-8d90-06c7ab15b9d7",
   "metadata": {},
   "source": [
    "### ✍️🌶️\n",
    "19.Create a folder called **```myfolder```** in the  Home  directory **```(~)```**.\n",
    "\n",
    "then create a text file called **```myfile```** in this folder.\n",
    "\n",
    "Once again, create a file with the exact same name **```myfile.txt```**  in the same folder.\n",
    "\n",
    "Then write this text to the file: \"Dear math exercise book\\n kindly grow up finally and solve your own problems!\".\n",
    "\n",
    "Then use the **```.open()```** method to read the text of the myfile and print all lines on the screen.\n",
    "\n",
    "finally Delete  **```myfolder```** directory. "
   ]
  },
  {
   "cell_type": "code",
   "execution_count": null,
   "id": "d3c332c7-8c16-4005-8211-f3d86739b9ed",
   "metadata": {},
   "outputs": [],
   "source": [
    "# Write your own code in this cell"
   ]
  }
 ],
 "metadata": {
  "kernelspec": {
   "display_name": "Python 3 (ipykernel)",
   "language": "python",
   "name": "python3"
  },
  "language_info": {
   "codemirror_mode": {
    "name": "ipython",
    "version": 3
   },
   "file_extension": ".py",
   "mimetype": "text/x-python",
   "name": "python",
   "nbconvert_exporter": "python",
   "pygments_lexer": "ipython3",
   "version": "3.9.7"
  }
 },
 "nbformat": 4,
 "nbformat_minor": 5
}

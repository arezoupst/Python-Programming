{
 "cells": [
  {
   "cell_type": "markdown",
   "metadata": {
    "id": "RWJ-LZvuPhcG"
   },
   "source": [
    "# 09 - Beginner Exercises \n",
    "*   Lambda\n",
    "\n",
    "\n",
    "---\n",
    "\n"
   ]
  },
  {
   "cell_type": "markdown",
   "metadata": {
    "id": "XOF2AhOxPt3P"
   },
   "source": [
    "## 🍩🍩🍩\n",
    "1.Create a lambda function that takes an argument $x$ and returns $x^{2}$.\n",
    "Then assign it to the variable Pow. then print Pow(2) , Pow(3) , Pow(1400) ."
   ]
  },
  {
   "cell_type": "code",
   "execution_count": 1,
   "metadata": {
    "id": "oNFW1pWUaeGz"
   },
   "outputs": [],
   "source": [
    "# Write your own code in this cell\n",
    "\n",
    "Pow =\n",
    "\n"
   ]
  },
  {
   "cell_type": "markdown",
   "metadata": {
    "id": "h9f0EwunRdb6"
   },
   "source": [
    "## 🍩🍩🍩\n",
    "2.Create a lambda function that takes two argument $a$ and $b$ and returns $\\frac{a + b}{a * b}$.\n",
    "Then assign it to the variable **Alpha**. then print Alpha(1,2) , Alpha(2,3) , Alpha(3,4) ."
   ]
  },
  {
   "cell_type": "code",
   "execution_count": null,
   "metadata": {
    "id": "tRiBZ6PDSOKg"
   },
   "outputs": [],
   "source": [
    "# Write your own code in this cell\n",
    "Alpha ="
   ]
  },
  {
   "cell_type": "markdown",
   "metadata": {
    "id": "xp320A8pTjSQ"
   },
   "source": [
    "##🍩\n",
    "\n",
    "3.We have a list of famous singers of each country. Print a list containing only their names using Lambda. use Lambda to write a function that, if called for each item of the **```persons```**, will return a tuple containing the **name** and **country** of each singer and do not return their age."
   ]
  },
  {
   "cell_type": "code",
   "execution_count": null,
   "metadata": {
    "id": "mhSTJurTT0jX"
   },
   "outputs": [],
   "source": [
    "# Write your own code in this cell\n",
    "persons = [(\"Paul David Hewson\", 61, \"Ireland\"),\n",
    "           (\"Saeed Mohammadi\", 63, \"Iran\"),\n",
    "           (\"Alla Borisovna Pugacheva\", 77, \"Russia\"),\n",
    "           (\"David Jon Gilmour\", 75, \"United Kingdom\"),\n",
    "           (\"Aryana Sayeed\", 36, \"Afghanistan\"),\n",
    "           (\"Céline Marie Claudette Dion\", 53, \"Canad\"),\n",
    "           (\"Caetano Emanuel Viana Telles Veloso\", 79, \"Brazil\"),]\n",
    "       "
   ]
  },
  {
   "cell_type": "markdown",
   "metadata": {
    "id": "OoDyHA3pbiiu"
   },
   "source": [
    "## 🍩\n",
    "4.As you know, the sort method takes two Optional arguments. Reverse and key. \n",
    "$$list.sort(reverse=True|False, key=myFunc)$$\n",
    "\n",
    "\n",
    "$$sorted(iterable, key=key, reverse=reverse)$$\n",
    "reverse=True will sort the list descending. Default is reverse=False\n",
    "And the key's value can be equal to a function to specify the **sorting criteria(s)**\n",
    "\n",
    "Using **```lambda```** and **```sort()```** method, please sort the list of singers below based on the **second letter** of their name.\n",
    "\n",
    "In the next step, sort the list of singers based on the **last letter** of their name using the **```sorted()```** builtin function. "
   ]
  },
  {
   "cell_type": "code",
   "execution_count": null,
   "metadata": {
    "id": "HMwvj_K2dW1R"
   },
   "outputs": [],
   "source": [
    "# Write your own code in this cell\n",
    "singers = [\"Paul David Hewson\", \"Saeed Mohammadi\" ,  \"Aryana Sayeed\",\n",
    "           \"Alla Borisovna Pugacheva\", \"Alla Borisovna Pugacheva\", \n",
    "           \"David Jon Gilmour\", \"Céline Marie Claudette Dion\", \n",
    "           \"Caetano Emanuel Viana Telles Veloso\"]\n",
    "\n",
    "       "
   ]
  },
  {
   "cell_type": "markdown",
   "metadata": {
    "id": "9BgGLq2CgUKN"
   },
   "source": [
    "## 🍩\n",
    "5.Please arrange the list below by age, from oldest to youngest. "
   ]
  },
  {
   "cell_type": "code",
   "execution_count": null,
   "metadata": {
    "id": "0O76EHrpgL03"
   },
   "outputs": [],
   "source": [
    "# Write your own code in this cell\n",
    "persons = [(\"Paul David Hewson\", 61, \"Ireland\"),\n",
    "           (\"Saeed Mohammadi\", 63, \"Iran\"),\n",
    "           (\"Alla Borisovna Pugacheva\", 77, \"Russia\"),\n",
    "           (\"David Jon Gilmour\", 75, \"United Kingdom\"),\n",
    "           (\"Aryana Sayeed\", 36, \"Afghanistan\"),\n",
    "           (\"Céline Marie Claudette Dion\", 53, \"Canad\"),\n",
    "           (\"Caetano Emanuel Viana Telles Veloso\", 79, \"Brazil\"),]\n",
    "       "
   ]
  },
  {
   "cell_type": "markdown",
   "metadata": {
    "id": "Uo3QtZBUg_I1"
   },
   "source": [
    "## 🌶️\n",
    "\n",
    "6.Using Lambda and sorted() function, write a function that puts negative numbers to the left of the list and positive numbers to the right of the list. "
   ]
  },
  {
   "cell_type": "code",
   "execution_count": null,
   "metadata": {
    "id": "cHrl5sYRhl07"
   },
   "outputs": [],
   "source": [
    "# Write your own code in this cell\n",
    "mylist = [-1 , -7 ,3,14,6,12,-2,9,2,1,-4]\n"
   ]
  }
 ],
 "metadata": {
  "colab": {
   "collapsed_sections": [],
   "name": "09-PyEx.ipynb",
   "provenance": []
  },
  "kernelspec": {
   "display_name": "Python 3 (ipykernel)",
   "language": "python",
   "name": "python3"
  },
  "language_info": {
   "codemirror_mode": {
    "name": "ipython",
    "version": 3
   },
   "file_extension": ".py",
   "mimetype": "text/x-python",
   "name": "python",
   "nbconvert_exporter": "python",
   "pygments_lexer": "ipython3",
   "version": "3.9.7"
  }
 },
 "nbformat": 4,
 "nbformat_minor": 4
}

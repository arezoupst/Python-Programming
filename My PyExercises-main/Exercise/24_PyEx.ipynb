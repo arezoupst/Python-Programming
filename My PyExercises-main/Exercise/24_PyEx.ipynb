{
 "cells": [
  {
   "cell_type": "markdown",
   "id": "5937377c-78ca-4745-93a0-35ab59499881",
   "metadata": {},
   "source": [
    "# 24 - Advanced Exercises\n",
    "\n",
    "*   JSON"
   ]
  },
  {
   "cell_type": "code",
   "execution_count": 1,
   "id": "62086d38-0fcc-48d1-a356-d26f630d8988",
   "metadata": {},
   "outputs": [],
   "source": [
    "# Run this cell to import the main class:\n",
    "import json"
   ]
  },
  {
   "cell_type": "markdown",
   "id": "66385290-5bb5-41b2-a40a-af87d6d8b441",
   "metadata": {},
   "source": [
    "## 🍿🍿🍿\n",
    "1.Create a Python program that will convert a Python object to JSON data. "
   ]
  },
  {
   "cell_type": "code",
   "execution_count": null,
   "id": "ec039710-1599-4455-af25-3db8e406d760",
   "metadata": {},
   "outputs": [],
   "source": [
    "# Write your own code in this cell\n",
    "myobj = {\"_id\":\"e7bee06e34cf468399c3bf82d8e766f4\",\n",
    "            \"cals_per100grams\":\"89\",\n",
    "            \"category_id\":\"97e8f81e5c0a44bbbbd527d46477281b\",\n",
    "            \"kj_per100grams\":\"374\",\n",
    "            \"name\":\"Banana\",\n",
    "            \"per100grams\":\"100\",\n",
    "            \"in_the_market\":True}\n",
    "\n",
    "json_obj = \n",
    "print(\"\\nJSON data:\")\n",
    "print(json_obj)\n"
   ]
  },
  {
   "cell_type": "markdown",
   "id": "7092a0b5-cced-4194-bbde-74d668c1d94a",
   "metadata": {},
   "source": [
    "## 🍿🍿🍿\n",
    "2.Create a Python code that will transform JSON data to Python objects. "
   ]
  },
  {
   "cell_type": "code",
   "execution_count": null,
   "id": "bcf2e275-ab89-449b-b6cb-66e9aac55617",
   "metadata": {},
   "outputs": [],
   "source": [
    "# Write your own code in this cell\n",
    "json_data = '{\"cals_per100grams\": \"89\", \"kj_per100grams\": \"374\", \"name\": \"Banana\"}'\n",
    "myobj = \n",
    "print(\"Name: \", myobj[])\n",
    "print(\"Calories per 100 grams: \", myobj[])\n",
    "print(\"Kilojoules per hundred grams : \", myobj[])"
   ]
  },
  {
   "cell_type": "markdown",
   "id": "4a1e645e-6d07-4d32-ade7-9eded6a1632a",
   "metadata": {},
   "source": [
    "## 🍿🍿🍿\n",
    "3.Make a Python program that converts Python objects to JSON data.\n",
    "Print out all of the values. "
   ]
  },
  {
   "cell_type": "code",
   "execution_count": null,
   "id": "dd163d36-89db-4615-ba16-8f589de32b9a",
   "metadata": {},
   "outputs": [],
   "source": [
    "# Write your own code in this cell\n",
    "mydict =  {\"cals_per100grams\": \"89\", \"kj_per100grams\": \"374\", \"name\": \"Banana\"}\n",
    "mylist =  [\"Apple\", \"Orange\", \"Banana\"]\n",
    "mystr =  \"Math doesn’t take sides. It doesn’t judge\"\n",
    "myint =  999_999_000_001\n",
    "myfloat =  3.14159\n",
    "mybool =  True\n",
    "mynone =  None\n",
    "\n",
    "json_obj =  \n",
    "json_array =  \n",
    "json_string =  \n",
    "json_int_number =  \n",
    "json_float_number =  \n",
    "json_bool =  \n",
    "json_null =  \n",
    "print(\"json object : \", )\n",
    "print(\"jason array : \", )\n",
    "print(\"json string : \", )\n",
    "print(\"json number1 : \", )\n",
    "print(\"json number2 : \", )\n",
    "print(\"json bool : \", )\n",
    "print(\"json null ; \", )\n"
   ]
  },
  {
   "cell_type": "markdown",
   "id": "d1e35fb1-b360-4e11-b64d-69aa4954a663",
   "metadata": {},
   "source": [
    "## 🍿\n",
    "4.Make a Python program that converts a Python dictionary (sorted alphabetically) to JSON data.\n",
    "Using indent level 4, print the object members. *(use sort_keys= and indent= )*\n",
    "\n",
    "Solve the same problem once more, but this time sort the objects by their scores. (use lambda to do this task) "
   ]
  },
  {
   "cell_type": "code",
   "execution_count": null,
   "id": "a4386caa-bea2-4d43-9f0b-03f3c1a92e1b",
   "metadata": {},
   "outputs": [],
   "source": [
    "# Write your own code in this cell\n",
    "\n",
    "myobj = {'Zahra': 19, 'Ali': 18, 'Hassan': 13, 'Hossein': 20, }\n",
    "print(\"Original Object:\")\n",
    "print(myobj)\n",
    "print(\"\\nJSON data:\")\n",
    "print()"
   ]
  },
  {
   "cell_type": "markdown",
   "id": "213178a9-821c-4147-804f-c8185f2574f2",
   "metadata": {},
   "source": [
    "## 🍿🍿\n",
    "5.The Tehran weather prediction is kept in a JSON file at this location: **```\"./Files/json/tehran.json\"```** . Use this file and display the following output :\n",
    "\n",
    "```\n",
    "Tehran is Sunny on Thu Nov 18 06:30:00 2021.The minimum temperature is 39 degrees and and the maximum temperature is 52 degrees. \n",
    "\n",
    "Tehran is Mostly Sunny on Fri Nov 19 06:30:00 2021.The minimum temperature is 37 degrees and and the maximum temperature is 53 degrees. \n",
    "\n",
    "Tehran is Mostly Sunny on Sat Nov 20 06:30:00 2021.The minimum temperature is 42 degrees and and the maximum temperature is 56 degrees. \n",
    "\n",
    "Tehran is Partly Cloudy on Sun Nov 21 06:30:00 2021.The minimum temperature is 42 degrees and and the maximum temperature is 60 degrees. \n",
    "\n",
    "Tehran is Partly Cloudy on Mon Nov 22 06:30:00 2021.The minimum temperature is 46 degrees and and the maximum temperature is 58 degrees. \n",
    "\n",
    "Tehran is Partly Cloudy on Tue Nov 23 06:30:00 2021.The minimum temperature is 44 degrees and and the maximum temperature is 61 degrees. \n",
    "\n",
    "Tehran is Mostly Sunny on Wed Nov 24 06:30:00 2021.The minimum temperature is 41 degrees and and the maximum temperature is 61 degrees. \n",
    "\n",
    "Tehran is Partly Cloudy on Thu Nov 25 06:30:00 2021.The minimum temperature is 45 degrees and and the maximum temperature is 59 degrees. \n",
    "\n",
    "Tehran is Mostly Cloudy on Fri Nov 26 06:30:00 2021.The minimum temperature is 45 degrees and and the maximum temperature is 57 degrees. \n",
    "\n",
    "Tehran is Partly Cloudy on Sat Nov 27 06:30:00 2021.The minimum temperature is 41 degrees and and the maximum temperature is 56 degrees. \n",
    "\n",
    "Tehran is Partly Cloudy on Sun Nov 28 06:30:00 2021.The minimum temperature is 39 degrees and and the maximum temperature is 54 degrees. \n",
    "```\n",
    "You can also use the following method to convert date to a more readable format: \n",
    "**```time.ctime(int(\"1637204400\"))```** -->**'Thu Nov 18 06:30:00 2021'**"
   ]
  },
  {
   "cell_type": "code",
   "execution_count": null,
   "id": "3692f202-91f9-47bd-ba95-f9d4cf0e59e2",
   "metadata": {},
   "outputs": [],
   "source": [
    "# Write your own code in this cell\n",
    "import time\n",
    "        \n",
    "        "
   ]
  },
  {
   "cell_type": "markdown",
   "id": "280e3cbb-d679-46c2-8716-e32ba5b0b7a0",
   "metadata": {},
   "source": [
    "## 🍿\n",
    "6.Complete the VectorEncoder class so that objects from the Vector Class can be serialized to JSON data as follows : \n",
    "```\n",
    "[\n",
    "    {\n",
    "        \"Vector(0, 0, 1, 1)\": {\n",
    "            \"x1\": 0,\n",
    "            \"y1\": 0,\n",
    "            \"x2\": 1,\n",
    "            \"y2\": 1\n",
    "        }\n",
    "    },\n",
    "    {\n",
    "        \"Vector(-1, 1, 1, -1)\": {\n",
    "            \"x1\": -1,\n",
    "            \"y1\": 1,\n",
    "            \"x2\": 1,\n",
    "            \"y2\": -1\n",
    "        }\n",
    "    }\n",
    "]\n",
    "```"
   ]
  },
  {
   "cell_type": "code",
   "execution_count": null,
   "id": "a73c0ba7-0619-4d6c-a2fa-f8f8091010b9",
   "metadata": {},
   "outputs": [],
   "source": [
    "# Write your own code in this cell\n",
    "class Vector(object):\n",
    "    def __init__(self, x1, y1, x2, y2):\n",
    "        self.x1 = x1\n",
    "        self.y1 = y1\n",
    "        self.x2 = x2\n",
    "        self.y2 = y2\n",
    "    def __repr__(self):\n",
    "        return f'{self.__class__.__name__}({self.x1}, {self.y1}, \\\n",
    "{self.x2}, {self.y2})'\n",
    "    \n",
    "class VectorEncoder():\n",
    "    pass\n",
    "\n",
    "a = Vector(0, 0, 1, 1)\n",
    "b = Vector(-1, 1, 1, -1)\n",
    "myobj = [a, b]\n",
    "json.dumps(myobj, cls=VectorEncoder, indent=4)\n"
   ]
  },
  {
   "cell_type": "markdown",
   "id": "09eb5e8c-f257-4fd6-babe-a6f3e32ecba3",
   "metadata": {},
   "source": [
    "## 🍿\n",
    "7.Complete the **```custom_decoder(obj)```** function so that the following JSON data after decoding gives us a complex number. "
   ]
  },
  {
   "cell_type": "code",
   "execution_count": null,
   "id": "291ccb2b-7089-44ba-a480-db0c149d7434",
   "metadata": {},
   "outputs": [],
   "source": [
    "j_data = '{\"data\": {\"complex\": {\"__complex__\": true, \"real\": 3.0, \"imag\": 4.0}}}'\n",
    "\n",
    "def custom_decoder(obj):\n",
    "\n",
    "\n",
    "x=json.loads(j_data, object_hook=custom_decoder)\n",
    "print(x['data']['complex'])\n",
    "type(x['data']['complex'])"
   ]
  },
  {
   "cell_type": "markdown",
   "id": "735c8e7e-9453-4490-8c38-b6ba4c533b1f",
   "metadata": {},
   "source": [
    "## 🍿🍿🍿\n",
    "8.Modify the text in the **```mytext```** variable, and then execute the next cell with your customized text.\n",
    "Then go to https://rapidapi.com/hub use the APIs there, and write your own applications using them. "
   ]
  },
  {
   "cell_type": "code",
   "execution_count": 2,
   "id": "641eb208-e478-4675-ab0d-19587892b131",
   "metadata": {},
   "outputs": [
    {
     "name": "stdout",
     "output_type": "stream",
     "text": [
      "نمک موجود در نمکدان شوری ندارد.\n"
     ]
    }
   ],
   "source": [
    "import requests\n",
    "\n",
    "url = \"https://google-translate1.p.rapidapi.com/language/translate/v2\"\n",
    "mytext = \"The salt in the salt shaker has no salinity.\"\n",
    "payload = \"source=en&target=fa&q=\" + mytext\n",
    "headers = {\n",
    "    'content-type': \"application/x-www-form-urlencoded\",\n",
    "    'accept-encoding': \"application/gzip\",\n",
    "    'x-rapidapi-host': \"google-translate1.p.rapidapi.com\",\n",
    "    'x-rapidapi-key': \"b06756d142msh2d78abbf6e25847p10ffa5jsna04de7af2118\"\n",
    "    }\n",
    "\n",
    "response = requests.request(\"POST\", url, data=payload, headers=headers)\n",
    "json_data = response.text\n",
    "myobj = json.loads(json_data)\n",
    "print(myobj[\"data\"][\"translations\"][0][\"translatedText\"])"
   ]
  }
 ],
 "metadata": {
  "kernelspec": {
   "display_name": "Python 3 (ipykernel)",
   "language": "python",
   "name": "python3"
  },
  "language_info": {
   "codemirror_mode": {
    "name": "ipython",
    "version": 3
   },
   "file_extension": ".py",
   "mimetype": "text/x-python",
   "name": "python",
   "nbconvert_exporter": "python",
   "pygments_lexer": "ipython3",
   "version": "3.9.7"
  }
 },
 "nbformat": 4,
 "nbformat_minor": 5
}

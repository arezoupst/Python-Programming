{
 "cells": [
  {
   "cell_type": "markdown",
   "id": "54453920-9aba-41e9-a8c3-6ab0f28f1955",
   "metadata": {},
   "source": [
    "# 17 - Intermediate Exercises\n",
    "\n",
    "*   Classes"
   ]
  },
  {
   "cell_type": "markdown",
   "id": "e45ecf21-f280-4cb4-82dc-4547e3415b11",
   "metadata": {},
   "source": [
    "## 🍅🍅🍅\n",
    "1.Create a Python program that imports  built-in pathlib module and displays the namespace of **```pathlib.PurePath```**. "
   ]
  },
  {
   "cell_type": "code",
   "execution_count": null,
   "id": "51783648-851a-4f3e-ae05-58bd2e12ac6c",
   "metadata": {},
   "outputs": [],
   "source": [
    "# Write your own code in this cell"
   ]
  },
  {
   "cell_type": "markdown",
   "id": "dde9c69a-e012-4369-9337-83bc0545777f",
   "metadata": {},
   "source": [
    "## 🍅🍅🍅\n",
    "2.Create a Python class that will convert an integer to a Persian numbering system. \n",
    "\n",
    "1234567890  --->  ۱۲۳۴۵۶۷۸۹۰\n",
    "\n",
    "۱۲۳۴۵۶۷۸۹۰ --->   1234567890"
   ]
  },
  {
   "cell_type": "code",
   "execution_count": null,
   "id": "01a20aca-5c1f-4f9e-9beb-2113c76589a3",
   "metadata": {},
   "outputs": [],
   "source": [
    "# Write your own code in this cell\n",
    "class PersianUtils(object):\n",
    "    \n",
    "    def __init__(self):\n",
    "        pass\n",
    "    \n",
    "    def enum_to_pnum(self, enum):\n",
    "        pass\n",
    "    \n",
    "    def pnum_to_enum(self, pnum):\n",
    "        pass"
   ]
  },
  {
   "cell_type": "markdown",
   "id": "fe6fd05e-fad7-4d15-932a-2f3df619586d",
   "metadata": {},
   "source": [
    "## 🍅🍅🍅\n",
    "3.Create a class named **```Sphere```** .\n",
    "Knowing the radius of the sphere allows you to create sphere object.\n",
    "\n",
    "Then define all of the comparison operations so that the two sphere objects can be compared.\n",
    "\n",
    "Then define the *addition* and *subtraction*  for this class so that adding or subtracting two spheres adds and subtracts the volume of the two spheres, and a sphere corresponding to the final volume is returned to the user.\n",
    "\n",
    "Then define the division function for this class so that we can determine how many times sphere A is larger than sphere B. (based on volume).  \n",
    "\n",
    "Then define a sphere's multiplication function by multiplying a sphere by a real number, such as **X**, which returns a sphere with the volume **X** times larger than the previous sphere. "
   ]
  },
  {
   "cell_type": "markdown",
   "id": "f2b98591-61bc-4189-8878-d121cd637eeb",
   "metadata": {},
   "source": [
    "![image.png](data:image/png;base64,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)"
   ]
  },
  {
   "cell_type": "markdown",
   "id": "6de8dff1-20cb-4b4a-adad-4c5a16fde6ad",
   "metadata": {},
   "source": [
    "$$Area=4\\Pi r^2$$\n",
    "\n",
    "\n",
    "$$Volume = \\frac{4}{3}\\Pi r^3$$"
   ]
  },
  {
   "cell_type": "code",
   "execution_count": null,
   "id": "aef2b6a0-75a7-419d-8c34-e0b62c6e28f1",
   "metadata": {},
   "outputs": [],
   "source": [
    "# Write your own code in this cell\n",
    "class Sphere(object):\n",
    "    def __init__(self, radius):\n",
    "        self.__pi = 3.1415926535897932384626433\n",
    "        self.radius = radius\n",
    "    def __repr__(self):\n",
    "        pass\n",
    "    def area(self):\n",
    "        pass\n",
    "    def volume(self):\n",
    "        pass\n",
    "    def __mul__(self, n):\n",
    "        if not isinstance(n , (int, float)): \n",
    "            raise TypeErrors()\n",
    "        "
   ]
  },
  {
   "cell_type": "code",
   "execution_count": null,
   "id": "758daa9b-d6f2-49d5-9de3-3151b526da2c",
   "metadata": {},
   "outputs": [],
   "source": [
    "# Run this cell to check your class .\n",
    "print(Sphere(4) == Sphere(4))\n",
    "print(Sphere(3) != Sphere(8))\n",
    "print(Sphere(4) >  Sphere(1))\n",
    "print(Sphere(4) >= Sphere(4))\n",
    "print(Sphere(4) <  Sphere(8))\n",
    "print(Sphere(9) <= Sphere(9))\n",
    "print(Sphere(3.2710663101885893) == Sphere(3) + Sphere(2))\n",
    "print(Sphere(2.668401648721945) == Sphere(3) - Sphere(2))\n",
    "print(Sphere(3) / Sphere(2) == 3.375)\n",
    "print(Sphere(3) // Sphere(2) == 3)\n",
    "print(Sphere(3.7797631496846193) == Sphere(3) * 2)"
   ]
  }
 ],
 "metadata": {
  "kernelspec": {
   "display_name": "Python 3 (ipykernel)",
   "language": "python",
   "name": "python3"
  },
  "language_info": {
   "codemirror_mode": {
    "name": "ipython",
    "version": 3
   },
   "file_extension": ".py",
   "mimetype": "text/x-python",
   "name": "python",
   "nbconvert_exporter": "python",
   "pygments_lexer": "ipython3",
   "version": "3.9.7"
  }
 },
 "nbformat": 4,
 "nbformat_minor": 5
}

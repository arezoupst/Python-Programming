{
 "cells": [
  {
   "cell_type": "markdown",
   "id": "4e065789-31e1-4606-a9ec-cf2b6783bd3e",
   "metadata": {},
   "source": [
    "# 15 - Intermediate Exercises\n",
    "\n",
    "*   zip()\n",
    "*   map() "
   ]
  },
  {
   "cell_type": "markdown",
   "id": "fabd4354-dedd-44fe-b9a5-adb0bcdd4ed8",
   "metadata": {},
   "source": [
    "## 🍷🍷🍷\n",
    "1.Create a merged list of tuples from the two lists given using the zip() and list() functions. "
   ]
  },
  {
   "cell_type": "code",
   "execution_count": 3,
   "id": "54226078-8de2-4144-b361-1fb8f5312b0b",
   "metadata": {},
   "outputs": [],
   "source": [
    "# Write your own code in this cell\n",
    "city = [\"isfahan\", \"Tehran\", \"Fars\", \"Khozestan\", \"Mazandaran\"]\n",
    "pref = [\"031\", \"021\", \"071\", \"061\", \"011\"]\n"
   ]
  },
  {
   "cell_type": "markdown",
   "id": "366954b2-26e5-4458-888c-9e5de8be669c",
   "metadata": {},
   "source": [
    "## 🍷🍷🍷\n",
    "2.To begin, make a range from 1 to 10.\n",
    "Then, using zip(), combine the given list and the range to produce a new list of tuples. "
   ]
  },
  {
   "cell_type": "code",
   "execution_count": null,
   "id": "1b4dbe56-58ce-4659-816e-432a18f40da0",
   "metadata": {},
   "outputs": [],
   "source": [
    "# Write your own code in this cell\n",
    "fifa_member = [\"Belgium\", \"Brazil\", \"France\", \"Italy\", \"England\",\n",
    "               \"Argentina\", \"Spain\", \"Portugal\", \"Mexico\", \"Denmark\"]\n",
    "fifa_rank = "
   ]
  },
  {
   "cell_type": "markdown",
   "id": "3935bcd8-c748-4c5e-bb5d-9fe8a5582962",
   "metadata": {},
   "source": [
    "## 🍷🍷\n",
    "3.Create a dictionary with key-value pairs from planet and moon_count using the zip and dict functions. "
   ]
  },
  {
   "cell_type": "code",
   "execution_count": null,
   "id": "596cdfee-5e7d-498c-ad44-a036c3f7530a",
   "metadata": {},
   "outputs": [],
   "source": [
    "# Write your own code in this cell\n",
    "planet = [\"Mercury \", \"Venus \", \"Earth\",\"Mars\", \"Jupiter\", \"Saturn\", \"Uranus\", \"Neptune\", \"Pluton\"]\n",
    "moon_count = [0, 0, 1, 2, 79, 82, 27, 14, 5]"
   ]
  },
  {
   "cell_type": "markdown",
   "id": "f35506f2-91e0-4868-b709-ad830a13cf2e",
   "metadata": {},
   "source": [
    "## 🌶️ \n",
    "4.Create a dictionary with key-value pairs from lst1 and lst2 using the zip and dict functions. Then sort the new list by the time each king ruled. (use key= and lambda)"
   ]
  },
  {
   "cell_type": "code",
   "execution_count": 12,
   "id": "95819a4e-15a4-4fef-aad9-5ee1b18e84dc",
   "metadata": {},
   "outputs": [],
   "source": [
    "# Write your own code in this cell\n",
    "list1 = [\"Ardashir I\", \"Seleucus\", \"Cyrus\", \"Deioces\", \"Alexander\"]\n",
    "list2 = [224, -311, -559, -700, -336]\n"
   ]
  },
  {
   "cell_type": "markdown",
   "id": "a0c634fa-d2ab-4c10-add3-b1bb08c30681",
   "metadata": {},
   "source": [
    "## 🍷🍷\n",
    "4.zip() lists 1 and 2, then print each item on zipped list  using  for loop."
   ]
  },
  {
   "cell_type": "code",
   "execution_count": null,
   "id": "1c4c014a-2622-489c-9edd-1abb13774e4e",
   "metadata": {},
   "outputs": [],
   "source": [
    "# Write your own code in this cell\n",
    "list1 = [0, 1, 1, 2, 3, 5, 8, 13, 21, 34, 55, 89, 144]\n",
    "list2 = [0, 1, 2, 3, 4, 5, 6, 7, 8, 9, 10, 11, 12]"
   ]
  },
  {
   "cell_type": "markdown",
   "id": "be04d4cc-5eba-4c88-8a2c-d019995ed1ed",
   "metadata": {},
   "source": [
    "## 🍷🍷\n",
    "5.Write a map function that multiplies the difference between each member of the following list by the mean. \n",
    "$$x_{i}  \\rightarrow  (x_{i} -mean)^2$$"
   ]
  },
  {
   "cell_type": "code",
   "execution_count": null,
   "id": "36a63b54-663f-4614-8493-5a96463eb9ba",
   "metadata": {},
   "outputs": [],
   "source": [
    "# Write your own code in this cell\n",
    "list2 = [-1, 2, -3, 4, -5, 8, -2, 7, 8, -9, 10, 11, -12]"
   ]
  },
  {
   "cell_type": "markdown",
   "id": "5f359b53-5ca6-44d9-a903-0548e44e64f4",
   "metadata": {},
   "source": [
    "## 🍷🍷🍷\n",
    "6.Create a map function that appends \"Hello, \" to the beginning of each item in the list. "
   ]
  },
  {
   "cell_type": "code",
   "execution_count": null,
   "id": "1ab68786-f851-47ec-8d6c-d8846dbd8fde",
   "metadata": {},
   "outputs": [],
   "source": [
    "# Write your own code in this cell\n",
    "mylist = [\"Tirdad\", \"Bahman\", \"Azar\", \"Yalda\"]"
   ]
  },
  {
   "cell_type": "markdown",
   "id": "af7441ef-f215-4642-a428-1be47ea552c9",
   "metadata": {},
   "source": [
    "## 🍷🍷\n",
    "7.Create a list consisting of the lengths of each element in the first_list using the map() and len() functions. "
   ]
  },
  {
   "cell_type": "code",
   "execution_count": null,
   "id": "8bd69e1d-843d-421e-99a6-235cd5cbaa42",
   "metadata": {},
   "outputs": [],
   "source": [
    "# Write your own code in this cell\n",
    "first_list = [\"Paul David Hewson\", \"Saeed Mohammadi\" ,  \"Aryana Sayeed\"]\n"
   ]
  },
  {
   "cell_type": "markdown",
   "id": "45e4f85a-68d1-4c9a-8990-6b95c74902c1",
   "metadata": {},
   "source": [
    "## 🌶️ \n",
    "8.Below is a list of tops, including the height and weight of each person. If the formula for calculating body mass index is as follows:\n",
    "$$BMI = \\frac{(Weight)}{Height^2} =  \\frac{kg}{meter^2}$$\n",
    "With just a single line of Python code, show us how many people on the list are **obese** .\n",
    "\n",
    "*(We define obesity with a body mass index above 30)* "
   ]
  },
  {
   "cell_type": "code",
   "execution_count": 2,
   "id": "4d2d986e-d5cd-4063-bccc-0554ce67e182",
   "metadata": {},
   "outputs": [],
   "source": [
    "# Write your own code in this cell\n",
    "\n",
    "data = [(172, 137), (190, 131), (171, 60), (177, 108), (175, 97), \n",
    " (189, 135), (170, 86), (168, 72), (155, 124), (174, 76),\n",
    " (160, 109), (153, 50), (168, 51), (175, 127), (182, 69), \n",
    " (187, 119), (172, 122), (160, 146), (161, 58),(165, 76)]\n"
   ]
  },
  {
   "cell_type": "markdown",
   "id": "eea35d45-be62-4013-954d-79e0b581ef68",
   "metadata": {},
   "source": [
    "## 🍷\n",
    "9.The following list includes systolic blood pressure. If each person's blood pressure is above 140, we can say that the person has high blood pressure. Use a single line of Python code to indicate how many people have high blood pressure in the list below. "
   ]
  },
  {
   "cell_type": "code",
   "execution_count": 25,
   "id": "52ab418d-8219-479b-9ad8-154ff49c3564",
   "metadata": {},
   "outputs": [],
   "source": [
    "# Write your own code in this cell\n",
    "sample =[133, 112, 157,  96,  95, 128, 124, 122, 101, 138, 170, 217, 128, 132,  98,\n",
    "       104, 137, 136, 187, 153, 150,  95,  99, 146, 100]\n"
   ]
  },
  {
   "cell_type": "markdown",
   "id": "58270435-50b3-4a71-9597-e24a47ceed8c",
   "metadata": {},
   "source": [
    "## 🍷\n",
    "10.Write a function that brings each member of **```list1```** to the power of the corresponding member with equal index in **```list2```**. "
   ]
  },
  {
   "cell_type": "code",
   "execution_count": 17,
   "id": "7cc353c0-d168-4690-a429-c59e86af74e6",
   "metadata": {},
   "outputs": [],
   "source": [
    "# Write your own code in this cell\n",
    "list1 = [8, 4, 2]\n",
    "list2 = [3, 5, 10]\n"
   ]
  }
 ],
 "metadata": {
  "kernelspec": {
   "display_name": "Python 3 (ipykernel)",
   "language": "python",
   "name": "python3"
  },
  "language_info": {
   "codemirror_mode": {
    "name": "ipython",
    "version": 3
   },
   "file_extension": ".py",
   "mimetype": "text/x-python",
   "name": "python",
   "nbconvert_exporter": "python",
   "pygments_lexer": "ipython3",
   "version": "3.9.7"
  }
 },
 "nbformat": 4,
 "nbformat_minor": 5
}

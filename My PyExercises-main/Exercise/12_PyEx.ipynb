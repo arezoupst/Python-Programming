{
 "cells": [
  {
   "cell_type": "markdown",
   "metadata": {
    "id": "pdvxQSwMFmhL"
   },
   "source": [
    "\n",
    "# 12 - Beginner Exercises\n",
    "\n",
    "*   Conditional Statements\n",
    "\n",
    "\n",
    "\n"
   ]
  },
  {
   "cell_type": "markdown",
   "metadata": {
    "id": "ZfrzJusuFBhB"
   },
   "source": [
    "## 🍼 🍼 🍼 \n",
    "1.Create a Python program that receive a number from the user and determines if a given integer is even or odd. "
   ]
  },
  {
   "cell_type": "code",
   "execution_count": 3,
   "metadata": {
    "id": "GPVN4mQtFZV1"
   },
   "outputs": [],
   "source": [
    "# Write your own code in this cell\n",
    "n = "
   ]
  },
  {
   "cell_type": "markdown",
   "metadata": {
    "id": "y_ZLsO6MLXyQ"
   },
   "source": [
    "## 🍼🍼\n",
    "2.Write a Python code that would read any integer day number and show the day's name in the word "
   ]
  },
  {
   "cell_type": "code",
   "execution_count": null,
   "metadata": {
    "id": "ceq2IQE9LiNO"
   },
   "outputs": [],
   "source": [
    "# Write your own code in this cell\n"
   ]
  },
  {
   "cell_type": "markdown",
   "metadata": {
    "id": "9l4LMLzjIzY8"
   },
   "source": [
    "## 🍼🍼\n",
    "3.Create a Python program that receive three angles from the user  to determine whether the supplied angle values may be used to construct a triangle. \n"
   ]
  },
  {
   "cell_type": "code",
   "execution_count": null,
   "metadata": {
    "id": "_EVIsmWsJ0Gb"
   },
   "outputs": [],
   "source": [
    "# Write your own code in this cell\n",
    "a = \n",
    "b =\n",
    "c =\n"
   ]
  },
  {
   "cell_type": "markdown",
   "metadata": {
    "id": "1GIc2jraFVvl"
   },
   "source": [
    "## 🍼\n",
    "\n",
    "4.Write a Python program that receive three numbers from the user to calculate the root of a Quadratic Equation.\n",
    "$$ax^2+bx+c$$\n",
    "\n",
    "As you know, the roots of the quadratic equation can be obtained using the following formula: \n",
    "$$x= \\frac{-b \\pm \\sqrt{ \\Delta } }{2a} $$\n",
    "\n",
    "* If the delta is a number greater than zero ($\\Delta  > 0$), our quadratic equation has two roots as follows: \n",
    "$$x_{1}= \\frac{-b+ \\sqrt{ \\Delta } }{2a} $$\n",
    "$$x_{2}= \\frac{-b- \\sqrt{ \\Delta } }{2a} $$\n",
    "* If the delta is zero, then there is exactly one real root:\n",
    "$$x= \\frac{-b}{2a} $$\n",
    "* If the delta is negative, then there are no real roots\n",
    "\n",
    "\n",
    "We also know that Delta equals: \n",
    "$$ \\Delta =  b^{2} - 4ac$$\n"
   ]
  },
  {
   "cell_type": "code",
   "execution_count": null,
   "metadata": {
    "id": "w5Bw3ratFZ7b"
   },
   "outputs": [],
   "source": [
    "# Write your own code in this cell\n",
    "a =\n",
    "b =\n",
    "c =\n",
    "\n"
   ]
  },
  {
   "cell_type": "markdown",
   "metadata": {
    "id": "AZNSRvSpFVns"
   },
   "source": [
    "## 🍼 \n",
    "5.Create an application that takes the user's systolic and diastolic blood pressures and tells them category of their current condition . \n",
    "\n",
    "\n",
    "|BLOOD PRESSURE CATEGORY |\tSYSTOLIC mm Hg  \t|and/or| \tDIASTOLIC mm Hg |\n",
    "|---|---|---|---|\n",
    "|**NORMAL**| \tLESS THAN 120 |\tand | \tLESS THAN 80|\n",
    "|**ELEVATED**| \t120 – 129 |\tand |\tLESS THAN 80 |\n",
    "|**HIGH BLOOD PRESSURE (HYPERTENSION) STAGE 1**| \t130 – 139 |\tor |\t80 – 89 |\n",
    "|**HIGH BLOOD PRESSURE (HYPERTENSION) STAGE 2**|\t140 OR HIGHER | \tor |\t90 OR HIGHER |\n",
    "|**HYPERTENSIVE CRISIS *(consult your doctor immediately)***| \tHIGHER THAN 180 |\tand/or |\tHIGHER THAN 120|"
   ]
  },
  {
   "cell_type": "code",
   "execution_count": null,
   "metadata": {
    "id": "n0gVExmWFajX"
   },
   "outputs": [],
   "source": [
    "# Write your own code in this cell\n"
   ]
  },
  {
   "cell_type": "markdown",
   "metadata": {
    "id": "7tegv7r0FV2i"
   },
   "source": [
    "## 🍼\n",
    "6.Create an application that initially displays a list of geometric shapes to the user.\n",
    "By entering a number, the user can pick one of those shapes.\n",
    "Then, based on the geometric shape selected, obtain the shape parameters from the user.\n",
    "Finally, as the output, display the shape's area. \n"
   ]
  },
  {
   "cell_type": "code",
   "execution_count": null,
   "metadata": {
    "id": "OuF7uikkFbIq"
   },
   "outputs": [],
   "source": [
    "# Write your own code in this cell\n"
   ]
  },
  {
   "cell_type": "markdown",
   "metadata": {
    "id": "0QXv78V3FV9s"
   },
   "source": [
    "## 🌶️🌶️\n",
    "7.Create a lambda function that accepts a number and returns a string based on this logic,\n",
    "\n",
    "* If the given value is between 3 to 8 then return \"Severe\"\n",
    "* else if it’s between 9 to 15 then return \"Mild to Moderate\"\n",
    "* else returns the \"The number is not valid\"\n",
    "\n",
    "```The above numbers are derived from the Glasgow Coma Scale.```"
   ]
  },
  {
   "cell_type": "code",
   "execution_count": 4,
   "metadata": {
    "id": "aKvrOrPgFboh"
   },
   "outputs": [],
   "source": [
    "# Write your own code in this cell\n"
   ]
  },
  {
   "cell_type": "markdown",
   "metadata": {
    "id": "7CipDgdgFWD8"
   },
   "source": [
    "## 🌶️\n",
    "**```You can nest expressions to evaluate inside expressions in an f-string```**\n",
    "\n",
    "8.You are given a set of prime numbers less than 1000.\n",
    "Create a program that receives a number and then uses a single print() function with F-String to determine whether or not it was a prime number.\n",
    "\n",
    "for example:\n",
    "\n",
    "\"997 is a prime number,\" \n",
    "\n",
    "\"998 is not a prime number.\" \n",
    "\n",
    "\n",
    "\n"
   ]
  },
  {
   "cell_type": "code",
   "execution_count": null,
   "metadata": {
    "id": "WxWqvb9KFcN1"
   },
   "outputs": [],
   "source": [
    "# Write your own code in this cell\n",
    "P = {2, 3, 5, 7, 11, 13, 17, 19, 23, 29, 31, 37, 41,\n",
    "          43, 47, 53, 59, 61, 67, 71, 73, 79, 83, 89, 97,\n",
    "          101, 103, 107, 109, 113, 127, 131, 137, 139, 149,\n",
    "          151, 157, 163, 167, 173, 179, 181, 191, 193, 197,\n",
    "          199, 211, 223, 227, 229, 233, 239, 241, 251, 257,\n",
    "          263, 269, 271, 277, 281, 283, 293, 307, 311, 313,\n",
    "          317, 331, 337, 347, 349, 353, 359, 367, 373, 379,\n",
    "          383, 389, 397, 401, 409, 419, 421, 431, 433, 439,\n",
    "          443, 449, 457, 461, 463, 467, 479, 487, 491, 499,\n",
    "          503, 509, 521, 523, 541, 547, 557, 563, 569, 571,\n",
    "          577, 587, 593, 599, 601, 607, 613, 617, 619, 631,\n",
    "          641, 643, 647, 653, 659, 661, 673, 677, 683, 691,\n",
    "          701, 709, 719, 727, 733, 739, 743, 751, 757, 761,\n",
    "          769, 773, 787, 797, 809, 811, 821, 823, 827, 829,\n",
    "          839, 853, 857, 859, 863, 877, 881, 883, 887, 907,\n",
    "          911, 919, 929, 937, 941, 947, 953, 967, 971, 977,\n",
    "          983, 991, 997}\n"
   ]
  }
 ],
 "metadata": {
  "colab": {
   "name": "12-PyEx.ipynb",
   "provenance": []
  },
  "kernelspec": {
   "display_name": "Python 3 (ipykernel)",
   "language": "python",
   "name": "python3"
  },
  "language_info": {
   "codemirror_mode": {
    "name": "ipython",
    "version": 3
   },
   "file_extension": ".py",
   "mimetype": "text/x-python",
   "name": "python",
   "nbconvert_exporter": "python",
   "pygments_lexer": "ipython3",
   "version": "3.9.7"
  }
 },
 "nbformat": 4,
 "nbformat_minor": 4
}

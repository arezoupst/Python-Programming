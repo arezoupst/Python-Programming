{
  "nbformat": 4,
  "nbformat_minor": 0,
  "metadata": {
    "colab": {
      "name": "11-PyEx.ipynb",
      "provenance": []
    },
    "kernelspec": {
      "name": "python3",
      "display_name": "Python 3"
    },
    "language_info": {
      "name": "python"
    }
  },
  "cells": [
    {
      "cell_type": "markdown",
      "metadata": {
        "id": "pdvxQSwMFmhL"
      },
      "source": [
        "\n",
        "# 11 - Beginner Exercises\n",
        "\n",
        "*   join() \n",
        "*   split()\n",
        "*   strip()\n"
      ]
    },
    {
      "cell_type": "markdown",
      "metadata": {
        "id": "ZfrzJusuFBhB"
      },
      "source": [
        "## 🍕🍕🍕\n",
        "1. Binds the list's items with: **```\"---\"```**."
      ]
    },
    {
      "cell_type": "code",
      "metadata": {
        "id": "GPVN4mQtFZV1"
      },
      "source": [
        "# Write your own code in this cell\n",
        "mylist = [\"Tehran\", \"Mashhad\", \"Isfahan\", \"Karaj\",\n",
        "          \"Shiraz\", \"Tabriz\", \"Qom\", \"Ahwaz\", \"Kermanshah\"]"
      ],
      "execution_count": null,
      "outputs": []
    },
    {
      "cell_type": "markdown",
      "metadata": {
        "id": "AZNSRvSpFVns"
      },
      "source": [
        "## 🍕🍕🍕\n",
        "2.To get a proper email address, join the tuple's components. "
      ]
    },
    {
      "cell_type": "code",
      "metadata": {
        "id": "w5Bw3ratFZ7b"
      },
      "source": [
        "# Write your own code in this cell\n",
        "mytuple = (\"Prof. Baghlani\", \"gmail.com\")"
      ],
      "execution_count": 1,
      "outputs": []
    },
    {
      "cell_type": "markdown",
      "metadata": {
        "id": "1GIc2jraFVvl"
      },
      "source": [
        "## 🍕🍕🍕\n",
        "\n",
        "3.Make a readable sentence by connecting each element in the list. "
      ]
    },
    {
      "cell_type": "code",
      "metadata": {
        "id": "n0gVExmWFajX"
      },
      "source": [
        "# Write your own code in this cell\n",
        "mylist = [\"According\", \"to\" ,\"my mirror\", \"I\", \"am\", \n",
        "          \"pregnant.\", \"The\", \"father\", \"is\", \"Nutella.\"]"
      ],
      "execution_count": null,
      "outputs": []
    },
    {
      "cell_type": "markdown",
      "metadata": {
        "id": "7tegv7r0FV2i"
      },
      "source": [
        "## 🍕🍕🍕\n",
        "4.Using  comma **```\",\"```** join the keys in the dictionary and print it.Using  hyphen **```\"-\"```**, join the values in the dictionary.\n",
        " "
      ]
    },
    {
      "cell_type": "code",
      "metadata": {
        "id": "OuF7uikkFbIq"
      },
      "source": [
        "# Write your own code in this cell\n",
        "mydict = {\"Tehran\" : 9135000, \"Mashhad\" : 3208000, \"Isfahan\" : 2132000 ,\n",
        "          \"Karaj\" : 1592492, \"Shiraz\" : 1565572, \"Tabriz\" : 1558693 ,\n",
        "          \"Qom\" : 1288000 , \"Ahwaz\" : 1244000, \"Kermanshah\" : 1026000 }"
      ],
      "execution_count": null,
      "outputs": []
    },
    {
      "cell_type": "markdown",
      "metadata": {
        "id": "0QXv78V3FV9s"
      },
      "source": [
        "## 🍕🍕\n",
        "5.Convert the list below  to a string, but make sure each item is written on an separate line. "
      ]
    },
    {
      "cell_type": "code",
      "metadata": {
        "id": "aKvrOrPgFboh"
      },
      "source": [
        "# Write your own code in this cell\n",
        "mylist = [\"A palindromic number reads the same both ways.\",\n",
        "          \"The largest palindrome made from the product of \" ,\n",
        "          \"two 2-digit numbers is 9009 = 91 × 99.\", \n",
        "          \"Find the largest palindrome made from \", \n",
        "          \"the product of two 3-digit numbers.\"]"
      ],
      "execution_count": null,
      "outputs": []
    },
    {
      "cell_type": "markdown",
      "metadata": {
        "id": "7CipDgdgFWD8"
      },
      "source": [
        "## 🍕🍕🍕\n",
        "6.Split the string based on space character: \" \"."
      ]
    },
    {
      "cell_type": "code",
      "metadata": {
        "id": "WxWqvb9KFcN1"
      },
      "source": [
        "# Write your own code in this cell\n",
        "mystr = \"Sergio Leonel Agüero del Castillo, also known as Kun Agüero, is an \\\n",
        "Argentine professional footballer who plays as a striker for La Liga club \\\n",
        "Barcelona and the Argentina national team.\""
      ],
      "execution_count": null,
      "outputs": []
    },
    {
      "cell_type": "markdown",
      "metadata": {
        "id": "AF5K1otDFWKw"
      },
      "source": [
        "## 🍕\n",
        "7.The contents of a JSON file have been given to us as a string.\n",
        "Is it possible to use it to create a dictionary in Python? "
      ]
    },
    {
      "cell_type": "code",
      "metadata": {
        "id": "PEyipRGTFc2w"
      },
      "source": [
        "# Write your own code in this cell\n",
        "mystring = '{\"name\":\"Sirus\", \"age\":30, \"car\":\"Paykan DeLuxe\"}'\n",
        "\n",
        "mydict = "
      ],
      "execution_count": null,
      "outputs": []
    },
    {
      "cell_type": "markdown",
      "metadata": {
        "id": "q1iL2fCvFWYF"
      },
      "source": [
        "## 🍕\n",
        "8.Kambiz extracted the HTML code from a table of bitcoin prices over the last 15 days.\n",
        "The extracted code is saved in my string variable as a string.\n",
        "Make a price list using your Python knowledge.\n",
        "\n",
        "<table><tr><th>63,164.45</th></tr><tr><th>63,226.40</th></tr><tr><th>61,004.41</th></tr><tr><th>61,318.96</th></tr><tr><th>61,888.83</th></tr><tr><th>62,227.96</th></tr><tr><th>60,622.14</th></tr><tr><th>58,482.39</th></tr><tr><th>60,363.79</th></tr><tr><th>63,039.82</th></tr><tr><th>60,930.84</th></tr><tr><th>61,393.62</th></tr><tr><th>60,692.27</th></tr><tr><th>62,210.17</th></tr>\n",
        "<tr><th>65,992.84</th></tr></table>"
      ]
    },
    {
      "cell_type": "code",
      "metadata": {
        "id": "Zdq1qLfUFdsi"
      },
      "source": [
        "# Write your own code in this cell\n",
        "mystring = \"<table><tr><th>63,164.45</th></tr><tr><th>63,226.40</th></tr><tr>\\\n",
        "<th>61,004.41</th></tr><tr><th>61,318.96</th></tr><tr><th>61,888.83</th></tr>\\\n",
        "<tr><th>62,227.96</th></tr><tr><th>60,622.14</th></tr><tr><th>58,482.39</th>\\\n",
        "</tr><tr><th>60,363.79</th></tr><tr><th>63,039.82</th></tr><tr><th>60,930.84\\\n",
        "</th></tr><tr><th>61,393.62</th></tr><tr><th>60,692.27</th></tr><tr><th>\\\n",
        "62,210.17</th></tr><tr><th>65,992.84</th></tr></table>\"\n",
        "mylist = "
      ],
      "execution_count": null,
      "outputs": []
    },
    {
      "cell_type": "markdown",
      "metadata": {
        "id": "o7RREIXMFWeF"
      },
      "source": [
        "## 🍕🍕🍕\n",
        "9.To remove whitespaces from both sides of a string, use the strip method. "
      ]
    },
    {
      "cell_type": "code",
      "metadata": {
        "id": "L8HToXBOFeRc"
      },
      "source": [
        "# Write your own code in this cell\n",
        "mysting = \"                             I am in touch with my motivation.\\\n",
        "I saw it going by this morning, waving at me and winking.                 \"\n"
      ],
      "execution_count": null,
      "outputs": []
    },
    {
      "cell_type": "markdown",
      "metadata": {
        "id": "R2oRFDqUFWkz"
      },
      "source": [
        "## 🍕🍕🍕\n",
        "10.Strip the string using the  strip() method to remove the semicolon: \";\" at the end of the string. "
      ]
    },
    {
      "cell_type": "code",
      "metadata": {
        "id": "PuG0RGwJFfDB"
      },
      "source": [
        "# Write your own code in this cell\n",
        "mystring = \"SELECT * FROM Users WHERE UserId = 105 OR 1=1;\"\n"
      ],
      "execution_count": null,
      "outputs": []
    },
    {
      "cell_type": "markdown",
      "metadata": {
        "id": "ltPCRjgaFWq3"
      },
      "source": [
        "## 🍕🍕🍕\n",
        "11.Remove the leading zeros from the following string."
      ]
    },
    {
      "cell_type": "code",
      "metadata": {
        "id": "xZh7GxD_Ffy2"
      },
      "source": [
        "# Write your own code in this cell\n",
        "mystring = \"0003.1400\"\n"
      ],
      "execution_count": 8,
      "outputs": []
    },
    {
      "cell_type": "markdown",
      "metadata": {
        "id": "UE9nBuszk6l0"
      },
      "source": [
        "## 🍕🍕🍕\n",
        "12.Remove **```@```** and **```#```**  from the right side of the following string."
      ]
    },
    {
      "cell_type": "code",
      "metadata": {
        "id": "PDlYTYERFgdy"
      },
      "source": [
        "# Write your own code in this cell\n",
        "mystring = \"@angelinajolie@@@@@##\""
      ],
      "execution_count": null,
      "outputs": []
    }
  ]
}
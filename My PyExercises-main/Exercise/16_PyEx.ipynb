{
 "cells": [
  {
   "cell_type": "markdown",
   "id": "1744e394-6664-4f4f-a4c3-f2bc71a5504c",
   "metadata": {},
   "source": [
    "# 16 - Intermediate Exercises\n",
    "\n",
    "*   filter()\n",
    "*   List Comprehension \n",
    "*   Dict Comprehension "
   ]
  },
  {
   "cell_type": "markdown",
   "id": "7e243742-d9ef-4637-97d5-1ad92042e2bb",
   "metadata": {},
   "source": [
    "## 🥝🥝🥝\n",
    "1.Filter the list using the **filter()** function so that only **negative** numbers remain. \n",
    "\n",
    "Do you believe such a function could be written using map() and lambda? "
   ]
  },
  {
   "cell_type": "code",
   "execution_count": 17,
   "id": "b03ba943-926b-4989-9fd9-71360369d334",
   "metadata": {},
   "outputs": [
    {
     "data": {
      "text/plain": [
       "[-7, -2, -1, -5]"
      ]
     },
     "execution_count": 17,
     "metadata": {},
     "output_type": "execute_result"
    }
   ],
   "source": [
    "# Write your own code in this cell\n",
    "mylist = [1, 9, -7, 0, -2, -1, 3, 4, 6, -5]\n",
    "list(filter(lambda x: x < 0,mylist))"
   ]
  },
  {
   "cell_type": "code",
   "execution_count": null,
   "id": "160a00ed-7655-4817-a18b-4c0776b0c031",
   "metadata": {},
   "outputs": [],
   "source": [
    "# Write your own code in this cell\n"
   ]
  },
  {
   "cell_type": "markdown",
   "id": "32e88cd3-96ca-4826-ba30-8d970fe2e145",
   "metadata": {},
   "source": [
    "## 🥝🥝🥝\n",
    "2.Filter the numbers that are not divisible by three using the filter function.\n",
    "so that only numbers divisible by three are sent to the new_list "
   ]
  },
  {
   "cell_type": "code",
   "execution_count": 21,
   "id": "74b3165d-15f1-4e2d-89fd-df691fe55aa8",
   "metadata": {},
   "outputs": [
    {
     "name": "stdout",
     "output_type": "stream",
     "text": [
      "[3, 6, 9, 12, 15, 18, 21, 24, 27, 30, 33, 36, 39, 42, 45, 48, 51, 54, 57, 60, 63, 66, 69, 72, 75, 78, 81, 84, 87, 90, 93, 96, 99]\n"
     ]
    }
   ],
   "source": [
    "# Write your own code in this cell\n",
    "old_list = [1, 2, 3, 4, 5, 6, 7, 8, 9, 10, 11, 12, 13, 14, 15, 16, 17, 18, 19, 20,\n",
    "            21, 22, 23, 24, 25, 26, 27, 28, 29, 30, 31, 32, 33, 34, 35, 36, 37, 38,\n",
    "            39, 40, 41, 42, 43, 44, 45, 46, 47, 48, 49, 50, 51, 52, 53, 54, 55, 56,\n",
    "            57, 58, 59, 60, 61, 62, 63, 64, 65, 66, 67, 68, 69, 70, 71, 72, 73, 74,\n",
    "            75, 76, 77, 78, 79, 80, 81, 82, 83, 84, 85, 86, 87, 88, 89, 90, 91, 92,\n",
    "            93, 94, 95, 96, 97, 98, 99, 100]\n",
    "new_list = list(filter(lambda x:x%3==0 ,old_list))\n",
    "print(new_list)"
   ]
  },
  {
   "cell_type": "markdown",
   "id": "64343360-b3bd-4aba-8e33-083088b1d1bc",
   "metadata": {
    "tags": []
   },
   "source": [
    "## 🥝\n",
    "3.Filter A,T, and C in a given string using the filter() and list() functions, as well as the.upper() method. "
   ]
  },
  {
   "cell_type": "code",
   "execution_count": null,
   "id": "b93a66e7-cbaf-4c18-ad86-447dfd1b9aa2",
   "metadata": {},
   "outputs": [],
   "source": [
    "# Write your own code in this cell\n",
    "d = \"AGCTTTTCATTCTGACTGCAACGGGCAATATGTCTCTG\\\n",
    "tgtggattaaaaaaagagtgtctgatagcagcttctgaactgg\\\n",
    "TTACCTGCCGTGAGTAAATTAAAATTTTATTGACTTAGGTCA\"\n"
   ]
  },
  {
   "cell_type": "markdown",
   "id": "48c2d1c2-b5c2-4a4c-b080-90fee1c5115d",
   "metadata": {},
   "source": [
    "## 🥝🥝\n",
    "4.Remove **```;```** from the following string using the filter(). \n"
   ]
  },
  {
   "cell_type": "code",
   "execution_count": null,
   "id": "a7e09e5d-eeb5-4af2-ae0f-30aafe4c891e",
   "metadata": {},
   "outputs": [],
   "source": [
    "# Write your own code in this cell\n",
    "mystring = \"IF (1=1) THEN dbms_lock.sleep(3); ELSE dbms_lock.sleep(0); END IF; END;\"\n"
   ]
  },
  {
   "cell_type": "markdown",
   "id": "0a92c639-bd09-4453-b2af-95a17b50df62",
   "metadata": {},
   "source": [
    "## 🥝\n",
    "5.Using  filter() and is_prime() functions filter all prime numbers below 1000"
   ]
  },
  {
   "cell_type": "code",
   "execution_count": 56,
   "id": "d22c789b-3f3e-49d1-9bbe-9669725f8aaf",
   "metadata": {},
   "outputs": [],
   "source": [
    "# Write your own code in this cell\n",
    "def is_prime(n):\n",
    "    for i in range(2,int(n**0.5)+1):\n",
    "        if n%i==0:\n",
    "            return False     \n",
    "    return True"
   ]
  },
  {
   "cell_type": "markdown",
   "id": "20d29202-eaba-41e4-8157-e5893f9532f1",
   "metadata": {
    "tags": []
   },
   "source": [
    "## 🥝🥝\n",
    "6.Using list comprehension and the is_prime() function, create a list like this: \n",
    "```\n",
    "[1, 2, 3, 5, 7, 11, 13, 17, 19, 23,\n",
    "29, 31, 37, 41, 43, 47, 53, 59, 61,\n",
    "67, 71, 73, 79, 83, 89, 97]\n",
    "```"
   ]
  },
  {
   "cell_type": "code",
   "execution_count": 43,
   "id": "8f5b2404-193c-49cb-b9ed-28509815d5e8",
   "metadata": {},
   "outputs": [],
   "source": [
    "# Write your own code in this cell\n"
   ]
  },
  {
   "cell_type": "markdown",
   "id": "3bb5609a-05b1-4f72-8040-64ac12f3f297",
   "metadata": {},
   "source": [
    "## 🥝🥝\n",
    "7.The given dictionary is made up of singers, as well as their ages and nationalities.\n",
    "Make a list of the names of singers under the age of 70 but over the age of 50. "
   ]
  },
  {
   "cell_type": "code",
   "execution_count": 57,
   "id": "cf99560c-9fa3-4a07-b3ad-6260de1980b1",
   "metadata": {},
   "outputs": [],
   "source": [
    "# Write your own code in this cell\n",
    "persons = {\"Paul David Hewson\" : (61, \"Ireland\"),\n",
    "           \"Saeed Mohammadi\" : (63, \"Iran\"),\n",
    "           \"Alla Borisovna Pugacheva\" : (77, \"Russia\"),\n",
    "           \"David Jon Gilmour\" : (75, \"United Kingdom\"),\n",
    "           \"Aryana Sayeed\" : (36, \"Afghanistan\"),\n",
    "           \"Céline Marie Claudette Dion\" : (53, \"Canad\"),\n",
    "           \"Caetano Emanuel Viana Telles Veloso\" : (79, \"Brazil\")}"
   ]
  },
  {
   "cell_type": "markdown",
   "id": "cb385bcf-167c-4607-90a1-90db60d0bb51",
   "metadata": {},
   "source": [
    "## 🥝\n",
    "8.Please use dict comprehension to swap the keys and values and create a new dictionary. "
   ]
  },
  {
   "cell_type": "code",
   "execution_count": 61,
   "id": "ef88fbf2-163a-4fc2-b101-d449e04891f4",
   "metadata": {},
   "outputs": [],
   "source": [
    "# Write your own code in this cell\n",
    "x={\"BTCUSDT\":66678,\"LINKUSDT\":35.8,\"ADAUSDT\":2.166}\n",
    "\n"
   ]
  }
 ],
 "metadata": {
  "kernelspec": {
   "display_name": "Python 3 (ipykernel)",
   "language": "python",
   "name": "python3"
  },
  "language_info": {
   "codemirror_mode": {
    "name": "ipython",
    "version": 3
   },
   "file_extension": ".py",
   "mimetype": "text/x-python",
   "name": "python",
   "nbconvert_exporter": "python",
   "pygments_lexer": "ipython3",
   "version": "3.9.7"
  }
 },
 "nbformat": 4,
 "nbformat_minor": 5
}
